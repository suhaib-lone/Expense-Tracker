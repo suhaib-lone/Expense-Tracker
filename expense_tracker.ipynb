{
 "cells": [
  {
   "cell_type": "markdown",
   "metadata": {},
   "source": [
    "IMPORTS"
   ]
  },
  {
   "cell_type": "code",
   "execution_count": null,
   "metadata": {},
   "outputs": [],
   "source": [
    "import pandas as pd\n",
    "import matplotlib.pyplot as plt"
   ]
  },
  {
   "cell_type": "code",
   "execution_count": null,
   "metadata": {},
   "outputs": [],
   "source": [
    "ep=pd.read_csv(\"expenses.csv\")\n",
    "print(ep.head())"
   ]
  },
  {
   "cell_type": "markdown",
   "metadata": {},
   "source": [
    "EXPLORATORY DATA ANALYSIS(EDA)"
   ]
  },
  {
   "cell_type": "code",
   "execution_count": null,
   "metadata": {},
   "outputs": [],
   "source": [
    "ep.info()"
   ]
  },
  {
   "cell_type": "code",
   "execution_count": null,
   "metadata": {},
   "outputs": [],
   "source": [
    "ep.describe()"
   ]
  },
  {
   "cell_type": "markdown",
   "metadata": {},
   "source": [
    "CHECKING MISSING VALUES"
   ]
  },
  {
   "cell_type": "code",
   "execution_count": null,
   "metadata": {},
   "outputs": [],
   "source": [
    "ep.isnull().sum()"
   ]
  },
  {
   "cell_type": "markdown",
   "metadata": {},
   "source": [
    "CALCULATE OVERALL EXPENSES"
   ]
  },
  {
   "cell_type": "code",
   "execution_count": null,
   "metadata": {},
   "outputs": [],
   "source": [
    "#total_expenses = df['Amount'].sum()\n",
    "total_expenses=ep.Amount.sum()\n",
    "print(total_expenses)"
   ]
  },
  {
   "cell_type": "markdown",
   "metadata": {},
   "source": [
    "EXPENSES BASED ON CATEGORIES"
   ]
  },
  {
   "cell_type": "code",
   "execution_count": null,
   "metadata": {},
   "outputs": [],
   "source": [
    "#expense_by_category = df.groupby('Category')['Amount'].sum()\n",
    "expenses_by_category=ep.groupby('Category').Amount.sum()\n",
    "expenses_by_category"
   ]
  },
  {
   "cell_type": "markdown",
   "metadata": {
    "slideshow": {
     "slide_type": "slide"
    }
   },
   "source": [
    "VISUALISATION OF expenses_by_category USING BAR CHART"
   ]
  },
  {
   "cell_type": "code",
   "execution_count": null,
   "metadata": {},
   "outputs": [],
   "source": [
    "expenses_by_category.plot(kind='bar', color='b')\n",
    "plt.title('Expenses by Category')\n",
    "plt.xlabel('Category')\n",
    "plt.ylabel('Amount Spent')"
   ]
  },
  {
   "cell_type": "markdown",
   "metadata": {},
   "source": [
    "TIME BASED ANALYSIS"
   ]
  },
  {
   "cell_type": "code",
   "execution_count": null,
   "metadata": {},
   "outputs": [],
   "source": [
    "ep['Date']=pd.to_datetime(ep['Date'])"
   ]
  },
  {
   "cell_type": "markdown",
   "metadata": {},
   "source": [
    "DAILY SPENDING TREND"
   ]
  },
  {
   "cell_type": "code",
   "execution_count": null,
   "metadata": {},
   "outputs": [],
   "source": [
    "daily_expense=ep.groupby('Date')['Amount'].sum()\n",
    "daily_expense.plot(kind='line',marker='o',color='teal')\n",
    "plt.title('Daily Expenses')\n",
    "plt.xlabel('date')\n",
    "plt.ylabel('expenditure')\n",
    "plt.plot()\n"
   ]
  },
  {
   "cell_type": "markdown",
   "metadata": {},
   "source": [
    "WEEKLY OR MONTHLY SPENDING TREND "
   ]
  },
  {
   "cell_type": "code",
   "execution_count": null,
   "metadata": {},
   "outputs": [],
   "source": [
    "ep['week']=ep['Date'].dt.isocalendar().week\n",
    "\n",
    "weekly_expenses=ep.groupby('week')['Amount'].sum()\n",
    "print(weekly_expenses)\n",
    "weekly_expenses.plot(kind='line', marker='o', color='purple')\n",
    "plt.title('weekly expenses')\n",
    "plt.xlabel('week')\n",
    "plt.ylabel('expenditure')\n",
    "plt.show()"
   ]
  },
  {
   "cell_type": "markdown",
   "metadata": {},
   "source": [
    "Identify High-Spending Days"
   ]
  },
  {
   "cell_type": "code",
   "execution_count": null,
   "metadata": {},
   "outputs": [],
   "source": [
    "high_spending_days =daily_expense[daily_expense>100]\n",
    "high_spending_days"
   ]
  },
  {
   "cell_type": "markdown",
   "metadata": {},
   "source": [
    "ANALYZING CATEGORIES WITH HIGHEST SPENDING IMPACT"
   ]
  },
  {
   "cell_type": "code",
   "execution_count": null,
   "metadata": {},
   "outputs": [],
   "source": [
    "sorted_expenses_by_category=expenses_by_category.sort_values(ascending=False)\n",
    "sorted_expenses_by_category.plot(kind='pie',autopct='%1.1f%%', startangle=140)\n",
    "plt.title('Percentage of Total Expenses by Category')\n",
    "plt.ylabel('')\n",
    "sorted_expenses_by_category"
   ]
  },
  {
   "cell_type": "markdown",
   "metadata": {},
   "source": [
    "AVERAGE DAILY SPENDING"
   ]
  },
  {
   "cell_type": "code",
   "execution_count": 50,
   "metadata": {},
   "outputs": [
    {
     "name": "stdout",
     "output_type": "stream",
     "text": [
      "89.375\n"
     ]
    }
   ],
   "source": [
    "mean_daily_expense=daily_expense.mean()\n",
    "print(mean_daily_expense)"
   ]
  }
 ],
 "metadata": {
  "kernelspec": {
   "display_name": "Python 3",
   "language": "python",
   "name": "python3"
  },
  "language_info": {
   "codemirror_mode": {
    "name": "ipython",
    "version": 3
   },
   "file_extension": ".py",
   "mimetype": "text/x-python",
   "name": "python",
   "nbconvert_exporter": "python",
   "pygments_lexer": "ipython3",
   "version": "3.12.3"
  }
 },
 "nbformat": 4,
 "nbformat_minor": 2
}
